{
 "cells": [
  {
   "cell_type": "markdown",
   "metadata": {},
   "source": [
    "### Student Information\n",
    "Name:\n",
    "\n",
    "Student ID:\n",
    "\n",
    "GitHub ID:"
   ]
  },
  {
   "cell_type": "markdown",
   "metadata": {},
   "source": [
    "---"
   ]
  },
  {
   "cell_type": "markdown",
   "metadata": {},
   "source": [
    "### Instructions"
   ]
  },
  {
   "cell_type": "markdown",
   "metadata": {},
   "source": [
    "### First Phase Submission"
   ]
  },
  {
   "cell_type": "markdown",
   "metadata": {},
   "source": [
    "1. First: do the **take home** exercises in the [DM2025-Lab1-Master](https://github.com/leoson-wu/DM2025-Lab1-Exercise/blob/main/DM2025-Lab1-Master.ipynb) that considered as **phase 1 (from exercise 1 to exercise 15)**. You can answer in the master file. __This part is worth 10% of your grade.__\n",
    "\n",
    "\n",
    "2. Second: follow the same process from the [DM2025-Lab1-Master](https://github.com/leoson-wu/DM2025-Lab1-Exercise/blob/main/DM2025-Lab1-Master.ipynb) on **the new dataset** up **until phase 1**. You can skip some exercises if you think some steps are not necessary. However main exercises should be completed. You don't need to explain all details as we did (some **minimal comments** explaining your code are useful though).  __This part is worth 15% of your grade.__\n",
    "    -  Use [the new dataset](https://github.com/leoson-wu/DM2025-Lab1-Exercise/blob/main/newdataset/Reddit-stock-sentiment.csv). The dataset contains a 16 columns including 'text' and 'label', with the sentiment labels being: 1.0 is positive, 0.0 is neutral and -1.0 is negative. You can simplify the dataset and use only the columns that you think are necessary. \n",
    "    \n",
    "    - You are allowed to use and modify the `helper` functions in the folder of the first lab session (notice they may need modification) or create your own.\n",
    "    - Use this file to complete the homework from the second part. Make sure the code can be run from the beginning till the end and has all the needed output.\n",
    "\n",
    "\n",
    "3. Third: please attempt the following tasks on **the new dataset**. __This part is worth 10% of your grade.__\n",
    "    - Generate meaningful **new data visualizations**. Refer to online resources and the Data Mining textbook for inspiration and ideas. \n",
    "    \n",
    "\n",
    "\n",
    "4. Fourth: It's hard for us to follow if your code is messy, so please **tidy up your notebook** and **add minimal comments where needed**. __This part is worth 5% of your grade.__\n",
    "\n",
    "You can submit your homework following these guidelines: [DM2025-Lab1-announcement](https://github.com/leoson-wu/DM2025-Lab1-Announcement/blob/main/README.md). Make sure to commit and save your changes to your repository __BEFORE the deadline (September 28th 11:59 pm, Sunday)__. "
   ]
  },
  {
   "cell_type": "markdown",
   "metadata": {},
   "source": [
    "### Second Phase Submission "
   ]
  },
  {
   "cell_type": "markdown",
   "metadata": {},
   "source": [
    "**You can keep the answer for phase 1 for easier running and update the phase 2 on the same page.**\n",
    "\n",
    "1. First: Continue doing the **take home** exercises in the [DM2025-Lab1-Master](https://github.com/leoson-wu/DM2025-Lab1-Exercise/blob/main/DM2025-Lab1-Master.ipynb) for **phase 2, starting from Finding frequent patterns**. Use the same master(.ipynb) file. Answer from phase 1 will not be considered at this stage. You can answer in the master file. __This part is worth 10% of your grade.__\n",
    "\n",
    "\n",
    "2. Second: Continue from first phase and do the same process from the [DM2025-Lab1-Master](https://github.com/leoson-wu/DM2025-Lab1-Exercise/blob/main/DM2025-Lab1-Master.ipynb) on **the new dataset** for phase 2, starting from Finding frequent pattern. You can skip some exercises if you think some steps are not necessary. However main exercises should be completed. You don't need to explain all details as we did (some **minimal comments** explaining your code are useful though).  __This part is worth 15% of your grade.__\n",
    "    - Continue using this file to complete the homework from the second part. Make sure the code can be run from the beginning till the end and has all the needed output. Use the same new dataset as in phase 1.\n",
    "    \n",
    "    - You are allowed to use and modify the `helper` functions in the folder of the first lab session (notice they may need modification) or create your own.\n",
    "\n",
    "3. Third: please attempt the following tasks on **the new dataset**. __This part is worth 20% of your grade.__\n",
    "    - Use this file to answer.\n",
    "    - Generate **TF-IDF features** from the tokens of each text. This will generating a document matrix, however, the weights will be computed differently (using the TF-IDF value of each word per document as opposed to the word frequency).  Refer to this Scikit-learn [guide](http://scikit-learn.org/stable/modules/generated/sklearn.feature_extraction.text.TfidfVectorizer.html) .\n",
    "    - Implement a simple **Naive Bayes classifier** that automatically classifies the records into their categories. Use both the TF-IDF features and word frequency features to build two seperate classifiers. Note that for the TF-IDF features you might need to use other type of NB classifier different than the one in the Master Notebook. Comment on the differences and when using augmentation with feature pattern.  Refer to this [article](https://hub.packtpub.com/implementing-3-naive-bayes-classifiers-in-scikit-learn/).\n",
    "\n",
    "\n",
    "4. Fourth: In the lab, we applied each step really quickly just to illustrate how to work with your dataset. There are somethings that are not ideal or the most efficient/meaningful. Each dataset can be handled differently as well. What are those inefficent parts you noticed? How can you improve the Data preprocessing for these specific datasets? __This part is worth 10% of your grade.__\n",
    "\n",
    "\n",
    "5. Fifth: It's hard for us to follow if your code is messy, so please **tidy up your notebook** and **add minimal comments where needed**. __This part is worth 5% of your grade.__\n",
    "\n",
    "\n",
    "You can submit your homework following these guidelines: [DM2025-Lab1-announcement](https://github.com/leoson-wu/DM2025-Lab1-Announcement/blob/main/README.md). Make sure to commit and save your changes to your repository __BEFORE the deadline (October 19th 11:59 pm, Sunday)__. "
   ]
  },
  {
   "cell_type": "markdown",
   "metadata": {},
   "source": [
    "# Phase 1"
   ]
  },
  {
   "cell_type": "code",
   "execution_count": null,
   "metadata": {},
   "outputs": [
    {
     "name": "stdout",
     "output_type": "stream",
     "text": [
      "Dataset size: (847, 2)\n"
     ]
    },
    {
     "data": {
      "text/html": [
       "<div>\n",
       "<style scoped>\n",
       "    .dataframe tbody tr th:only-of-type {\n",
       "        vertical-align: middle;\n",
       "    }\n",
       "\n",
       "    .dataframe tbody tr th {\n",
       "        vertical-align: top;\n",
       "    }\n",
       "\n",
       "    .dataframe thead th {\n",
       "        text-align: right;\n",
       "    }\n",
       "</style>\n",
       "<table border=\"1\" class=\"dataframe\">\n",
       "  <thead>\n",
       "    <tr style=\"text-align: right;\">\n",
       "      <th></th>\n",
       "      <th>text</th>\n",
       "      <th>label</th>\n",
       "    </tr>\n",
       "  </thead>\n",
       "  <tbody>\n",
       "    <tr>\n",
       "      <th>0</th>\n",
       "      <td>Calls on retards</td>\n",
       "      <td>-1.0</td>\n",
       "    </tr>\n",
       "    <tr>\n",
       "      <th>1</th>\n",
       "      <td>Stunt as in like why did they even make a big ...</td>\n",
       "      <td>0.0</td>\n",
       "    </tr>\n",
       "    <tr>\n",
       "      <th>2</th>\n",
       "      <td>Seeing lots of red in the ticker.</td>\n",
       "      <td>0.0</td>\n",
       "    </tr>\n",
       "    <tr>\n",
       "      <th>3</th>\n",
       "      <td>Vision Marine Technologies Inc. is rewriting t...</td>\n",
       "      <td>1.0</td>\n",
       "    </tr>\n",
       "    <tr>\n",
       "      <th>4</th>\n",
       "      <td>He didn’t say thank you.</td>\n",
       "      <td>-1.0</td>\n",
       "    </tr>\n",
       "  </tbody>\n",
       "</table>\n",
       "</div>"
      ],
      "text/plain": [
       "                                                text  label\n",
       "0                                   Calls on retards   -1.0\n",
       "1  Stunt as in like why did they even make a big ...    0.0\n",
       "2                  Seeing lots of red in the ticker.    0.0\n",
       "3  Vision Marine Technologies Inc. is rewriting t...    1.0\n",
       "4                           He didn’t say thank you.   -1.0"
      ]
     },
     "execution_count": 31,
     "metadata": {},
     "output_type": "execute_result"
    }
   ],
   "source": [
    "### Begin Assignment Here\n",
    "import pandas as pd\n",
    "import numpy as np\n",
    "import matplotlib.pyplot as plt\n",
    "import seaborn as sns\n",
    "import re\n",
    "import string\n",
    "\n",
    "from sklearn.model_selection import train_test_split\n",
    "from sklearn.feature_extraction.text import CountVectorizer, TfidfVectorizer\n",
    "from scipy.interpolate import make_interp_spline\n",
    "\n",
    "sns.set_style(\"darkgrid\") \n",
    "\n",
    "df_raw = pd.read_csv('newdataset/Reddit-stock-sentiment.csv')\n",
    "required_cols = ['text', 'label', 'subjectivity', 'upvote_ratio']\n",
    "X = df_raw[required_cols].copy()\n",
    "X = X[['text', 'label']].dropna()\n",
    "\n",
    "print(\"Dataset size:\", X.shape)\n",
    "X.head()\n",
    "\n",
    "\n",
    "\n"
   ]
  },
  {
   "cell_type": "code",
   "execution_count": null,
   "metadata": {},
   "outputs": [
    {
     "name": "stdout",
     "output_type": "stream",
     "text": [
      "--- Data Transformation ---\n",
      "Processed data length (X): 847\n",
      "Processed columns: ['text', 'label', 'category', 'category_name']\n",
      "\n",
      "First 5 records:\n",
      "                                                text  label  category  \\\n",
      "0                                   Calls on retards   -1.0      -1.0   \n",
      "1  Stunt as in like why did they even make a big ...    0.0       0.0   \n",
      "2                  Seeing lots of red in the ticker.    0.0       0.0   \n",
      "3  Vision Marine Technologies Inc. is rewriting t...    1.0       1.0   \n",
      "4                           He didn’t say thank you.   -1.0      -1.0   \n",
      "\n",
      "  category_name  \n",
      "0      negative  \n",
      "1       neutral  \n",
      "2       neutral  \n",
      "3      positive  \n",
      "4      negative  \n"
     ]
    }
   ],
   "source": [
    "# 1.0=positive, 0.0=neutral, -1.0=negative\n",
    "label_map = {1.0: 'positive', 0.0: 'neutral', -1.0: 'negative'}\n",
    "X['category'] = X['label']\n",
    "X['category_name'] = X['label'].map(label_map)\n",
    "\n",
    "print(\"--- Data Transformation ---\")\n",
    "print(f\"Processed data length (X): {len(X)}\")\n",
    "print(f\"Processed columns: {X.columns.tolist()}\")\n",
    "print(\"\\nFirst 5 records:\")\n",
    "print(X.head()) "
   ]
  },
  {
   "cell_type": "code",
   "execution_count": 41,
   "metadata": {},
   "outputs": [
    {
     "name": "stdout",
     "output_type": "stream",
     "text": [
      "--- Sentiment Category Distribution (value_counts) ---\n",
      "category_name\n",
      "positive    109\n",
      "neutral     423\n",
      "negative    315\n",
      "Name: count, dtype: int64\n",
      "-----------------------------------\n"
     ]
    },
    {
     "data": {
      "image/png": "[encoded data removed]",
      "text/plain": [
       "<Figure size 900x600 with 1 Axes>"
      ]
     },
     "metadata": {},
     "output_type": "display_data"
    },
    {
     "name": "stdout",
     "output_type": "stream",
     "text": [
      "\n",
      "The dataset length 847 is moderate. The full dataset (X_sample = X) will be used for DTM creation.\n"
     ]
    }
   ],
   "source": [
    "sns.set_style(\"darkgrid\") \n",
    "plt.rcParams['font.family'] = 'sans-serif' \n",
    "plt.rcParams['axes.unicode_minus'] = False\n",
    "\n",
    "category_counts = X.category_name.value_counts().reindex(['positive', 'neutral', 'negative'])\n",
    "print(\"--- Sentiment Category Distribution (value_counts) ---\")\n",
    "print(category_counts)\n",
    "print(\"-\" * 35)\n",
    "\n",
    "plt.figure(figsize=(9, 6))\n",
    "g = category_counts.plot(\n",
    "    kind='bar', \n",
    "    title='Sentiment Category Distribution (Reddit Stock Sentiment)',\n",
    "    rot=0, \n",
    "    color=['#4CAF50', '#708090', '#DC143C'] \n",
    ")\n",
    "g.set_xlabel(\"Sentiment Category\")\n",
    "g.set_ylabel(\"Count\")\n",
    "plt.tight_layout()\n",
    "plt.show() \n",
    "\n",
    "if len(X) > 10000:\n",
    "    X_sample = X.sample(n=10000, random_state=42)\n",
    "    print(f\"\\nThe dataset length {len(X)} is too large. 10,000 records (X_sample) have been sampled for subsequent testing.\")\n",
    "else:\n",
    "    X_sample = X.copy()\n",
    "    print(f\"\\nThe dataset length {len(X)} is moderate. The full dataset (X_sample = X) will be used for DTM creation.\")"
   ]
  },
  {
   "cell_type": "code",
   "execution_count": 44,
   "metadata": {},
   "outputs": [
    {
     "name": "stdout",
     "output_type": "stream",
     "text": [
      "--- DTM Information ---\n",
      "DTM Shape (Documents, Terms): (847, 444)\n",
      "Total Vocabulary (Features): 444\n",
      "Top 10 Terms (Alphabetical): ['10' '100' '11' '12' '15' '20' '2025' '25' '30' '4271']\n"
     ]
    }
   ],
   "source": [
    "count_vect = CountVectorizer(\n",
    "    stop_words='english',\n",
    "    min_df=5\n",
    ")\n",
    "\n",
    "X_counts = count_vect.fit_transform(X.text)\n",
    "\n",
    "print(\"--- DTM Information ---\")\n",
    "print(f\"DTM Shape (Documents, Terms): {X_counts.shape}\")\n",
    "print(f\"Total Vocabulary (Features): {X_counts.shape[1]}\")\n",
    "print(f\"Top 10 Terms (Alphabetical): {count_vect.get_feature_names_out()[:10]}\")\n"
   ]
  },
  {
   "cell_type": "code",
   "execution_count": 59,
   "metadata": {},
   "outputs": [
    {
     "data": {
      "image/png": "[encoded data removed]",
      "text/plain": [
       "<Figure size 1400x600 with 1 Axes>"
      ]
     },
     "metadata": {},
     "output_type": "display_data"
    },
    {
     "name": "stdout",
     "output_type": "stream",
     "text": [
      "\n",
      "Analysis: The sorted raw frequency graph clearly shows a **long-tail distribution**.\n",
      "A few words (on the left) have extremely high frequencies,\n",
      "while the frequencies of the vast majority of words (on the right) decrease rapidly.\n",
      "This confirms the universality of Zipf's Law in text data.\n"
     ]
    }
   ],
   "source": [
    "term_frequencies = X_counts.sum(axis=0).A1\n",
    "N = 100\n",
    "\n",
    "top_idx = term_frequencies.argsort()[-N:][::-1]\n",
    "top_terms = count_vect.get_feature_names_out()[top_idx]\n",
    "top_freqs = term_frequencies[top_idx]\n",
    "\n",
    "x = np.arange(len(top_terms))\n",
    "y = top_freqs\n",
    "\n",
    "x_smooth = np.linspace(x.min(), x.max(), 500)\n",
    "spl = make_interp_spline(x, y, k=3)\n",
    "y_smooth = spl(x_smooth)\n",
    "\n",
    "plt.figure(figsize=(14,6), facecolor='black')\n",
    "plt.plot(x_smooth, y_smooth, color=\"#D9FF00\", linewidth=2)\n",
    "plt.fill_between(x_smooth, y_smooth, color='#D9FF00')\n",
    "\n",
    "plt.axis('off')\n",
    "\n",
    "plt.tight_layout()\n",
    "plt.show()\n",
    "\n",
    "print(\"\\nAnalysis: The sorted raw frequency graph clearly shows a **long-tail distribution**.\\n\"\n",
    "      \"A few words (on the left) have extremely high frequencies,\\n\"\n",
    "      \"while the frequencies of the vast majority of words (on the right) decrease rapidly.\\n\"\n",
    "      \"This confirms the universality of Zipf's Law in text data.\")\n"
   ]
  },
  {
   "cell_type": "code",
   "execution_count": 57,
   "metadata": {},
   "outputs": [
    {
     "data": {
      "image/png": "[encoded data removed]",
      "text/plain": [
       "<Figure size 1400x600 with 1 Axes>"
      ]
     },
     "metadata": {},
     "output_type": "display_data"
    },
    {
     "name": "stdout",
     "output_type": "stream",
     "text": [
      "\n",
      "Analysis：After log-transforming the word frequencies,\n",
      "the previously rapidly declining curve is compressed into a smoother slope.\n",
      "This effectively reduces the dominance of high-frequency words and makes the distribution differences of low-frequency words easier to visually observe.\n",
      "Log-transformation is a useful method for evaluating word weights before applying TF-IDF or other frequency-based weighting.\n"
     ]
    }
   ],
   "source": [
    "term_frequencies = X_counts.sum(axis=0).A1\n",
    "N = 100\n",
    "\n",
    "top_idx = term_frequencies.argsort()[-N:][::-1]\n",
    "top_terms = count_vect.get_feature_names_out()[top_idx]\n",
    "top_freqs = term_frequencies[top_idx]\n",
    "\n",
    "top_freqs_log = [math.log(f) if f > 0 else 0 for f in top_freqs]\n",
    "\n",
    "x = np.arange(len(top_terms))\n",
    "y = top_freqs_log\n",
    "\n",
    "x_smooth = np.linspace(x.min(), x.max(), 500)\n",
    "spl = make_interp_spline(x, y, k=3)\n",
    "y_smooth = spl(x_smooth)\n",
    "\n",
    "plt.figure(figsize=(14,6), facecolor='black')\n",
    "plt.plot(x_smooth, y_smooth, color=\"#D9FF00\", linewidth=2)\n",
    "plt.fill_between(x_smooth, y_smooth, color='#D9FF00')\n",
    "\n",
    "plt.axis('off')\n",
    "plt.tight_layout()\n",
    "plt.show()\n",
    "\n",
    "print(\"\\nAnalysis：After log-transforming the word frequencies,\\n\"\n",
    "      \"the previously rapidly declining curve is compressed into a smoother slope.\\n\"\n",
    "      \"This effectively reduces the dominance of high-frequency words and makes the distribution differences of low-frequency words easier to visually observe.\\n\"\n",
    "      \"Log-transformation is a useful method for evaluating word weights before applying TF-IDF or other frequency-based weighting.\")"
   ]
  },
  {
   "cell_type": "markdown",
   "metadata": {},
   "source": [
    "# Phase 2"
   ]
  },
  {
   "cell_type": "code",
   "execution_count": null,
   "metadata": {},
   "outputs": [],
   "source": [
    "### Begin Assignment Here"
   ]
  }
 ],
 "metadata": {
  "kernelspec": {
   "display_name": "DM2025-Lab1-Exercise",
   "language": "python",
   "name": "python3"
  },
  "language_info": {
   "codemirror_mode": {
    "name": "ipython",
    "version": 3
   },
   "file_extension": ".py",
   "mimetype": "text/x-python",
   "name": "python",
   "nbconvert_exporter": "python",
   "pygments_lexer": "ipython3",
   "version": "3.11.0"
  }
 },
 "nbformat": 4,
 "nbformat_minor": 4
}
